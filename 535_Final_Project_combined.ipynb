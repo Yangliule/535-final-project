{
  "nbformat": 4,
  "nbformat_minor": 0,
  "metadata": {
    "kernelspec": {
      "display_name": "Python 3",
      "language": "python",
      "name": "python3"
    },
    "language_info": {
      "codemirror_mode": {
        "name": "ipython",
        "version": 3
      },
      "file_extension": ".py",
      "mimetype": "text/x-python",
      "name": "python",
      "nbconvert_exporter": "python",
      "pygments_lexer": "ipython3",
      "version": "3.7.9"
    },
    "colab": {
      "name": "535 Final Project_combined.ipynb",
      "provenance": []
    }
  },
  "cells": [
    {
      "cell_type": "markdown",
      "metadata": {
        "id": "LiheUNFtGw2p"
      },
      "source": [
        "## Kernel PCA\n",
        "#### Team members: Liule Yang, Zhiwen Xu, Yuxuan Liu"
      ]
    },
    {
      "cell_type": "markdown",
      "metadata": {
        "id": "ixt3WHDUGw2x"
      },
      "source": [
        "## Background and motivation"
      ]
    },
    {
      "cell_type": "markdown",
      "metadata": {
        "id": "UR6R87WWGw23"
      },
      "source": [
        "Principal component analysis (PCA) is one of the most popular dimensionality reduction and data visualization right now. PCA can extract linear features of a matrix input data and some meaningful analysis can be performed based on that. PCA can be performed through eigen-decomposition as well as singular value decomposition (SVD). PCA works well in some cases, for example, when dealing with DNA sequences, it can achieve satisfactory results."
      ]
    },
    {
      "cell_type": "markdown",
      "metadata": {
        "id": "Prn1XVBoGw28"
      },
      "source": [
        "However, PCA can only extract linear features. When the data is not linearly separable, we need to do a kernel trick and here we need kernel PCA (KPCA). With the KPCA, we can extract nonlinear features. Common kernels for KPCA include polynomial kernel, Gaussian kernel, and Sigmoid kernel."
      ]
    },
    {
      "cell_type": "markdown",
      "metadata": {
        "id": "rfWyBfFTGw2_"
      },
      "source": [
        "## Theory"
      ]
    },
    {
      "cell_type": "markdown",
      "metadata": {
        "id": "VDjt9DVaGw3B"
      },
      "source": [
        "### PCA"
      ]
    },
    {
      "cell_type": "markdown",
      "metadata": {
        "id": "8oogjV5BGw3F"
      },
      "source": [
        "Before explaining how Kernel PCA works, we first provide a brief introduction to PCA:\n",
        "\n",
        "Let d denote the dimension of the feature space, i.e. ${x} \\in \\mathbb{R}^{D} $, q denote the dimension of projection subspace. The principle components(PC) are the vectors that span the projection subspace. To find the PCs, we can maximize the variance or equivalently, minimize the mean squared error between projection vectors and originial vectors. This tutorial will follow the steps of variance maximization:"
      ]
    },
    {
      "cell_type": "markdown",
      "metadata": {
        "id": "kz6VpselGw3J"
      },
      "source": [
        "(1). To derive an expression for the variance, we first need the scalar projection of x, which is the length of vector projection, into the principal vector space. As we already learned from the class that the orthogonal projection of $v$ on an orthonormal list $\\left\\{\\mathbf{q}_{i}\\right\\}_{i=1}^{m}$ is $\\sum_{j=1}^{m}\\left\\langle\\mathbf{v}, \\mathbf{q}_{j}\\right\\rangle \\mathbf{q}_{j}$. Since principal directions span the projection subspace, they can be expressed as $\\left\\{\\mathbf{q}_{i}\\right\\}_{i=1}^{q}$. The scalar projection of x into ${q}_{i}$will be $\\left\\langle\\mathbf{v}, \\mathbf{q}_{i}\\right\\rangle$. We then can calculate the variance:\n",
        "\n",
        "$$\\begin{aligned}\n",
        "\\sigma^{2} &=\\frac{1}{n} \\sum_{i}\\left(\\mathbf{x_{i}} \\cdot \\mathbf{q}\\right)^{2} \\\\\n",
        "&=\\frac{1}{n}(\\mathbf{x} \\mathbf{q})^{T}(\\mathbf{x} \\mathbf{q}) \\\\\n",
        "&=\\frac{1}{n} \\mathbf{q}^{T} \\mathbf{x}^{T} \\mathbf{x} \\mathbf{q} \\\\\n",
        "&=\\mathbf{q}^{T} \\frac{\\mathbf{x}^{T} \\mathbf{x}}{n} \\mathbf{q} \\\\\n",
        "\\end{aligned}\n",
        "$$\n",
        "\n",
        "We assume that the data has zero mean(in the case where data is not centered at 0, we normalize it first), then $\\mathbf{x}^{T} \\mathbf{x} = {n}{C}$ and ${C}$ is the covariance matrix. Therefore, \n",
        "\n",
        "$$\n",
        "\\sigma^{2}=\\mathbf{q}^{T} {C} \\mathbf{q} \\\\\n",
        "$$"
      ]
    },
    {
      "cell_type": "markdown",
      "metadata": {
        "id": "1ykeslfDGw3R"
      },
      "source": [
        "(2) Maximize the variance by adding a Lagrange multiplier and taking derivatives to 0, we have:\n",
        "\n",
        "$$\\begin{aligned}\n",
        "\\mathbf{q}^{T} \\mathbf{q} &=1 \\\\\n",
        "{C} \\mathbf{q} &=\\lambda \\mathbf{q}\n",
        "\\end{aligned}$$\n",
        "\n",
        "Therefore, the principal directions are the eigenvectors of covariance matrix that correspond to the q largest eigenvalues. We can find the principal directions by direct eigen-decomposition, or by singular value decomposition(SVD)."
      ]
    },
    {
      "cell_type": "markdown",
      "metadata": {
        "id": "s0OT_M9sGw3U"
      },
      "source": [
        "As we discussed in class, any matrix has singular value decomposition, then ${x}$ can be written as:\n",
        "\n",
        "$$\n",
        "x= U \\Sigma V^{T}\n",
        "$$\n",
        "\n",
        "Note that ${U}$ and ${V}$ are orthonormal.\n",
        "\n",
        "Since ${C} = \\frac{\\mathbf{x}^{T} \\mathbf{x}}{n}$, the covariance matrix is symmetric and can be diagonalized:\n",
        "\n",
        "$${C}={V} {L} {V}^{T}$$\n",
        "\n",
        "where ${V}$ is the eigenvector and $L$ has eigenvalues on the diagonal with decreasing order.\n",
        "\n",
        "Plug in the SVD of ${x}$ to ${C}$, we have:\n",
        "\n",
        "$${C}=\\frac{(U \\Sigma V^{T})^{T} {U \\Sigma V}^{T}} {n}= \\frac{ V \\Sigma^{T} U^{T} {U^{T} \\Sigma V^{T}}} {n}={V} \\frac{{\\Sigma}^{2}}{n} {V}^{T}$$\n",
        "\n",
        "The right singular vectors ${V}$ are principal directions and the eigenvalues of covariance matrix are $\\lambda_{i}=\\frac{s_{i}^{2}}{n}$, where $s_{i}$ are the singular values. Principal components are given by ${x \\cdot V}={U \\Sigma V}^{T} {V}={U \\Sigma}$"
      ]
    },
    {
      "cell_type": "markdown",
      "metadata": {
        "id": "sjNs0wQIGw3X"
      },
      "source": [
        "### Kernel function and Kernel"
      ]
    },
    {
      "cell_type": "markdown",
      "metadata": {
        "id": "E9qQKCwMGw3f"
      },
      "source": [
        "To tackle the problems where we have non-linear data structure, we apply a Kernel function to map the current space to a higher dimensional and linearly separable space. The Kernel function is non-linear and maps x to $\\phi{(x)}$. A kernel calculates the dot product of the kernel mapping of two data points:\n",
        "\n",
        "$$K\\left({x}_{{i}}, {x}_{{j}}\\right)=\\phi\\left({x}_{{i}}\\right) \\phi\\left({x}_{{j}}\\right)^{T}$$"
      ]
    },
    {
      "cell_type": "markdown",
      "metadata": {
        "id": "HAkQC2f0Gw3i"
      },
      "source": [
        "Let d denote the dimension of the original data before mapping, and D the dimension of the transformed data after kernel mapping. A simple example of the function and kernel can be:\n",
        "\n",
        "$$ {x}=\\left[\\begin{array}{ll}\n",
        "x_{1} & x_{2}\n",
        "\\end{array}\\right]^{T} \\quad {x} \\in \\mathbb{R}^{d} $$\n",
        "\n",
        "$$\n",
        "{\\phi{(x)}}=\\left[\\begin{array}{llllll}\n",
        "x_{1}^{2} & x_{1}x_{2} & {x}_{2}{x}_{1} & x_{2}^{2} \\end{array}\\right]^{T} \\quad {x} \\in \\mathbb{R}^{D}\n",
        "$$\n",
        "\n",
        "$$\n",
        "K\\left({x}_{{i}}, {x}_{{j}}\\right)=\\phi\\left({x}_{{i}}\\right) \\phi\\left({x}_{{j}}\\right)^{T} = (<{x}_{i},{x}_{j}>)^{2}\n",
        "$$"
      ]
    },
    {
      "cell_type": "markdown",
      "metadata": {
        "id": "JgcN-t9kGw3k"
      },
      "source": [
        "There are some commonly used kernels, such as:\n",
        "\n",
        "(1). Gaussian radial basis function (RBF): \n",
        "$$\n",
        "K\\left({x}_{{i}}, {x}_{{j}}\\right)=\\exp \\left(-\\gamma\\left\\|{x}_{{i}}-{x}_{{j}}\\right\\|_{2}^{2}\\right)\n",
        "$$\n",
        "\n",
        "(2). Polynomial function:\n",
        "\n",
        "$$\n",
        "K\\left({x}_{i}, {x}_{j}\\right)=\\left(1+{x}_{i} \\cdot {x}_{j}\\right)^{p}\n",
        "$$"
      ]
    },
    {
      "cell_type": "markdown",
      "metadata": {
        "id": "TTDsIUFNGw3l"
      },
      "source": [
        "### Kernel PC Calculation & Derivation"
      ]
    },
    {
      "cell_type": "markdown",
      "metadata": {
        "id": "l9veY2qVGw3m"
      },
      "source": [
        "Similar to the eigen-decomposition of covariance matrix in PCA, we want to find the eigenvectors that correspond to the largest eigenvalues by applying the eigen-decomposition to the centered kernel matrix in Kernel PCA. \n",
        "\n",
        "The whole process can be devided into the following steps:\n",
        "\n",
        "(1) First we assume that the data has a zero mean:\n",
        "$$\\mu=\\frac{1}{n} \\sum_{i=1}^{n} \\phi\\left(x_{i}\\right)=0$$ \n",
        "\n",
        "(2) Then we need the expression for the covariance matrix:\n",
        "\n",
        "According the definition of covariance matrix(as introduced in the Probabilistic modeling, inference and sampling part),\n",
        "\n",
        "$${C}_{{x},{x}}=\\mathbb{E}\\left[({x}-\\mathbb{E}[{x}])({x}-\\mathbb{E}[{x}])^{T}\\right]$$\n",
        "\n",
        "The covariance matrix can be estimated by:\n",
        "\n",
        "$$C=\\frac{1}{n} \\sum_{i=1}^{n}\\left(x_{i}-\\bar{x}\\right)\\left(x_{i}-\\bar{x}\\right)^{T}$$\n",
        "\n",
        "Since we assume that the data has zero mean ($\\bar{x} = 0$), and also apply a kernel function to x, we obtain the following:\n",
        "\n",
        "$$\\mathrm{C}=\\frac{1}{n} \\sum_{i=1}^{n} \\phi\\left(x_{i}\\right) \\phi\\left(x_{i}\\right)^{T} \\hspace{1cm}{(1)}$$ \n",
        "\n",
        "The eigen-decomposition of covariance matrix is:\n",
        "\n",
        "$$\\mathrm{C} v=\\lambda v  \\hspace{1cm}{(2)}$$ \n",
        "\n",
        "(3) Combine Eq.(1) and Eq.(2), we have:\n",
        "\n",
        "$$\\mathrm{C} v=\\frac{1}{n} \\sum_{i=1}^{n} \\phi\\left(x_{i}\\right) \\phi\\left(x_{i}\\right)^{T} v=\\lambda v \\hspace{1cm}{(3)}$$\n",
        "\n",
        "$$v=\\frac{1}{\\lambda n} \\sum_{i=1}^{n} \\phi\\left(x_{i}\\right) \\phi\\left(x_{i}\\right)^{T} v=\\frac{1}{\\lambda n} \\sum_{i=1}^{n}\\left(\\phi\\left(x_{i}\\right) \\cdot v\\right) \\phi\\left(x_{i}\\right)^{T}  \\hspace{1cm}{(4)}$$\n",
        "\n",
        "Let $\\alpha_{i} = \\frac{\\phi(x_{i})\\cdot v}{n \\cdot \\lambda}$, we have \n",
        "$$\n",
        "v=\\sum_{i=1}^{n} \\alpha_{i} \\phi\\left(x_{i}\\right) \\hspace{1cm}{(5)}\n",
        "$$\n",
        "\n",
        "Thus, we can see that the eigenvectors are the linear combinations of $\\phi(x_{i})$."
      ]
    },
    {
      "cell_type": "markdown",
      "metadata": {
        "id": "3V7v38R7Gw3o"
      },
      "source": [
        "(4) Subsitute the eigenvector in Eq.(3) by Eq.(5), we have:\n",
        "$$\\frac{1}{n} \\sum_{i=1}^{n} \\phi\\left(x_{i}\\right) \\phi\\left(x_{i}\\right)^{T}\\left(\\sum_{j=1}^{n} \\alpha^{k}_{j} \\phi\\left(x_{j}\\right)\\right)=\\lambda_{k} \\sum_{j=1}^{n} \\alpha^{k}_{j} \\phi\\left(x_{j}\\right)$$\n",
        "\n",
        "Then, since $ K\\left({x}_{{i}}, {x}_{{j}}\\right)=\\phi\\left({x}_{{i}}\\right) \\phi\\left({x}_{{j}}\\right)^{T}$,\n",
        "$$\\frac{1}{n} \\sum_{i=1}^{n} \\phi\\left(x_{i}\\right)\\left(\\sum_{j=1}^{n} \\alpha^{k}_{j} K\\left(x_{i}, x_{j}\\right)\\right)=\\lambda_{k} \\sum_{j=1}^{n} \\alpha^{k}_{j} \\phi\\left(x_{j}\\right)$$\n",
        "\n",
        "If we multiply both sides by $\\phi(x_{l})^{T}$:\n",
        "$$\n",
        "\\frac{1}{n} \\sum_{i=1}^{n} \\phi\\left(x_{l}\\right)^{T} \\phi\\left(x_{i}\\right)\\left(\\sum_{j=1}^{n} \\alpha^{k}_{j} K\\left(x_{i}, x_{j}\\right)\\right)=\\lambda_{k} \\sum_{j=1}^{n} \\alpha^{k}_{j} \\phi\\left(x_{l}\\right)^{T} \\phi\\left(x_{j}\\right)\n",
        "$$"
      ]
    },
    {
      "cell_type": "markdown",
      "metadata": {
        "id": "u3DoLKKAGw3q"
      },
      "source": [
        "Therefore, \n",
        "$$\n",
        "K^{2} \\alpha_{k} =n \\lambda_{k} K \\alpha_{k}  \n",
        "$$\n",
        "\n",
        "Simplify it, we have:\n",
        "\n",
        "$$ K \\alpha_{k} =n \\lambda_{k} \\alpha_{k}  \\hspace{1cm}{(6)} $$\n",
        "\n",
        "(5) We normalize the $\\alpha$ by normalizing the corresponding eigenvectors:\n",
        "\n",
        "$$v_{k}^{T} v_{k} = 1$$\n",
        "\n",
        "Plug in Eq.(5):\n",
        "$$\\sum_{i, j=1}^{n} \\alpha_{i}^{k} \\alpha_{j}^{k}\\left(\\phi\\left({x}_{i}\\right) \\cdot \\phi\\left({x}_{j}\\right)\\right)=\\left({\\alpha}^{k} {\\alpha}^{k}\\right ) \\cdot K ={\\alpha}^{k} \\cdot \\left(K {\\alpha}^{k} \\right)=n \\lambda_{k} \\alpha^{k} \\alpha^{k} = 1$$\n",
        "\n",
        "Note that the second to last equality holds by plugging in Eq.(6) derived in the previous step."
      ]
    },
    {
      "cell_type": "markdown",
      "metadata": {
        "id": "0yet1YIQGw3s"
      },
      "source": [
        "(6) For any data point $x$, its projection into the eigenvector $v_j$ is:\n",
        "\n",
        "$$\n",
        "\\phi(x)^{T} v_{j}=\\sum_{i=1}^{n} \\alpha^{j}_{i} \\phi(x)^{T} \\phi\\left(x_{i}\\right)=\\sum_{i=1}^{n} \\alpha^{j}_{i} K\\left(x, x_{i}\\right)\n",
        "$$"
      ]
    },
    {
      "cell_type": "markdown",
      "metadata": {
        "id": "FIAK7mNTGw3t"
      },
      "source": [
        "Then the Kernel can be expressed by:\n",
        "$$\n",
        "\\begin{array}{l}\n",
        "{K}^{\\prime}\\left(x_{i}, x_{j}\\right)={\\phi}^{\\prime}\\left(x_{i}\\right) {\\phi}^{\\prime}\\left(x_{j}\\right) \\\\\n",
        "=\\left(\\phi\\left(x_{i}\\right)-\\frac{1}{n} \\sum_{k=1}^{n} \\phi\\left(x_{k}\\right)\\right)\\left(\\phi\\left(x_{j}\\right)-\\frac{1}{n} \\sum_{k=1}^{n} \\phi\\left(x_{k}\\right)\\right)  \\\\ \n",
        "=K\\left(x_{i}, x_{j}\\right)-\\frac{1}{n} \\sum_{k=1}^{n} K\\left(x_{i}, x_{k}\\right)-\\frac{1}{n} \\sum_{k=1}^{n} K\\left(x_{j}, x_{k}\\right)+\\frac{1}{n^{2}} \\sum_{l, k=1}^{n} K\\left(x_{l}, x_{k}\\right)\n",
        "\\end{array} \n",
        "$$\n",
        "\n",
        "Simplify it, we have:\n",
        "\n",
        "$$\n",
        "K^{\\prime}=K-2 \\mathbf{1}_{\\mathrm{n}} K+\\mathbf{1}_{\\mathrm{n}} K{\\mathbf{1}}_{\\mathbf{n}} \\hspace{1cm}{(7)}\n",
        "$$\n",
        "\n",
        "where $ \\mathbf{1}_{\\mathrm{n}} \\text { is a } n \\times n \\text { matrix with all values equal to } \\frac{1}{n}$"
      ]
    },
    {
      "cell_type": "markdown",
      "metadata": {
        "id": "7KBiFdMsGw3w"
      },
      "source": [
        "### Summary"
      ]
    },
    {
      "cell_type": "markdown",
      "metadata": {
        "id": "p8yr6ElIGw3w"
      },
      "source": [
        "#### Step 1 Calculate the Kernel Matrix:\n",
        "\n",
        "For example, if Gaussian radial basis function (RBF) is used, then calculate the kernal matrix by:\n",
        "$$\n",
        "K\\left({x}_{{i}}, {x}_{{j}}\\right)=\\exp \\left(-\\gamma\\left\\|{x}_{{i}}-{x}_{{j}}\\right\\|_{2}^{2}\\right)\n",
        "$$"
      ]
    },
    {
      "cell_type": "markdown",
      "metadata": {
        "id": "7L3YSMzgGw3y"
      },
      "source": [
        "#### Step 2 Normalize the Kernel Matrix:\n",
        "\n",
        "Use the Eq.(7) to calculate $K^{\\prime}$"
      ]
    },
    {
      "cell_type": "markdown",
      "metadata": {
        "id": "HR36nnDDGw30"
      },
      "source": [
        "#### Step 3 Decompose the Normalized Kernel Matrix for Eigenvectors and Eigenvalues.\n",
        "\n",
        "According to Eq.(6), solve the following equation: \n",
        "\n",
        "$${\\mathrm{K}} \\alpha_{i}=\\lambda_{i} \\alpha_{i}$$\n",
        "\n",
        "Note\n",
        "(1) We can let the $\\lambda_{i} = n \\lambda_{j} \\text{in the Eq.(6)}$, which will not affect the following precedures of finding the largest eigenvalues since all eigenvalues are multiplied by n.\n",
        "(2) As indicated by Eq.(5), finding the eigenvectors is equivalent to finding the $\\alpha_{i}$s."
      ]
    },
    {
      "cell_type": "markdown",
      "metadata": {
        "id": "m6OBfbU1Gw33"
      },
      "source": [
        "#### Step 4\n",
        "\n",
        "As stated in the Calculation & Derivation part, the projection into the eigenvector $v_j$ space of any data point $x$ is:\n",
        "\n",
        "$$\n",
        "\\phi(x)^{T} v_{j}=\\sum_{i=1}^{n} \\alpha^{j}_{i} K\\left(x, x_{i}\\right)\n",
        "$$"
      ]
    },
    {
      "cell_type": "markdown",
      "metadata": {
        "id": "9amn1nCsGw36"
      },
      "source": [
        "## Implementation"
      ]
    },
    {
      "cell_type": "markdown",
      "metadata": {
        "id": "n7XqFWGJGw3-"
      },
      "source": [
        "#### The eigen decomposition implementation of PCA\n",
        "\n",
        "The first type of algorithm is utilizing the information from eigenvalues and eigenvectors. First, the input matrix will be standardized by deducting mean of the matrix. Then, the covariance matrix of the input matrix will be computed, and the eigenvector and eigenvalue will be computed based on the covariance matrix. Then, sort the eigenvectors based on eigenvalues from large to small, and then select the top n components to make transformation of the original input matrix to a matrix with n features (n columns)."
      ]
    },
    {
      "cell_type": "code",
      "metadata": {
        "id": "qcRqQW_PGw4A"
      },
      "source": [
        "import numpy as np\n",
        "import pandas as pd\n",
        "import matplotlib.pyplot as plt"
      ],
      "execution_count": null,
      "outputs": []
    },
    {
      "cell_type": "code",
      "metadata": {
        "id": "MUG5rCtPGw4C"
      },
      "source": [
        "def eigen_pca(m, n_components = 2):\n",
        "    # compute the mean and make the input matrix centered\n",
        "    mean = np.mean(m,0)\n",
        "    centered_m = m - mean\n",
        "    num_rows, num_cols = centered_m.shape\n",
        "    # compute covariance matrix\n",
        "    cov_matrix = np.cov(np.transpose(centered_m))\n",
        "    # compute eigenvector and eigenvalue\n",
        "    eig_val_cov, eig_vec_cov = np.linalg.eig(cov_matrix)\n",
        "    # sort the eigenvalue and eigenvector pair by the order of eigenvector from large to small\n",
        "    eig_pairs = [(np.abs(eig_val_cov[i]), eig_vec_cov[:,i]) for i in range(len(eig_val_cov))]\n",
        "    eig_pairs.sort(key=lambda x: x[0], reverse=True)\n",
        "    # transform to the reduced dimension dataset\n",
        "    transformation_maxtrix = np.hstack((eig_pairs[k][1].reshape(num_cols,1) for k in range(n_components)))\n",
        "    reduced = (transformation_maxtrix.transpose()).dot(centered_m.transpose())\n",
        "    return reduced"
      ],
      "execution_count": null,
      "outputs": []
    },
    {
      "cell_type": "markdown",
      "metadata": {
        "id": "P7TyAq9LGw4F"
      },
      "source": [
        "#### The SVD implementation of PCA\n",
        "\n",
        "The PCA can also be performed using SVD. For the preprocessing of the data, the input data still needs to be centered. For this time, we do not use covariance matrix and then compute eigenvalues and eigenvectors based on that. Instead, this algorithm will perform SVD decomposition, and then utilize the first n largest singular value to reduce the dimensionality. Note singular values are already ordered from large to small when performing SVD, so there is no need to perform an ordering algorithm again."
      ]
    },
    {
      "cell_type": "code",
      "metadata": {
        "id": "96vo37cuGw4H"
      },
      "source": [
        "def svd_pca(m, n_components = 2):\n",
        "    # compute the mean and make the input matrix centered\n",
        "    mean = np.mean(m,0)\n",
        "    centered_m = m - mean\n",
        "    # perform singular value decomposition\n",
        "    U, S, V_transpose = np.linalg.svd(centered_m, full_matrices=False)\n",
        "    S = np.diag(S)\n",
        "    # reduce the dimensionality\n",
        "    reduced = (S[0:n_components, 0:n_components]).dot(U[:, 0:n_components].transpose())\n",
        "    return reduced"
      ],
      "execution_count": null,
      "outputs": []
    },
    {
      "cell_type": "markdown",
      "metadata": {
        "id": "aXcAacojGw4I"
      },
      "source": [
        "#### Gaussian radial basis function (RBF) Kernel\n",
        "\n",
        "This is the implementation of the Gaussian RBF kernel. This function takes an MxN data matrix and returns an MxM kernel matrix mapped by the kernel function. It first calculates the pairwise Euclidean distances of data points and transforms the result into an MxM symmetric matrix. Then it applies the RBF kernel function over this matrix and outputs the result."
      ]
    },
    {
      "cell_type": "code",
      "metadata": {
        "id": "JzqjwD7TGw4K"
      },
      "source": [
        "from numpy import exp\n",
        "import numpy as np\n",
        "import math\n",
        "\n",
        "def gaussian_kernel(X, gamma):\n",
        "    # calculate the square of the Euclidean distance for each pair of points\n",
        "    distances = []\n",
        "    num_rows, num_cols = X.shape\n",
        "    for i in range(0,len(X)-1):\n",
        "      for j in range(i+1,len(X)):\n",
        "        distances.append(sum(pow(X[i][k] - X[j][k],2) for k in range(num_cols)))\n",
        "    # convert the squared distances in to the form of a symmetric matrix of dimension MxM\n",
        "    s = (len(X),len(X))\n",
        "    square = np.zeros(s)\n",
        "    idx = 0\n",
        "    for i in range(0,len(X)):\n",
        "      for j in range(i+1,len(X)):\n",
        "        square[i][j] = distances[idx]\n",
        "        square[j][i] = distances[idx]\n",
        "        idx += 1\n",
        "    # calculated the MxM kernel matrix using the Gaussian RBF kernel function\n",
        "    K = exp(-gamma * square)\n",
        "    N = K.shape[0]\n",
        "    return K"
      ],
      "execution_count": null,
      "outputs": []
    },
    {
      "cell_type": "markdown",
      "metadata": {
        "id": "Wb44v-CtGw4M"
      },
      "source": [
        "#### Polynomial Kernel\n",
        "\n",
        "This is the implementation of the Polynomial kernel. This function takes an MxN data matrix and returns an MxM kernel matrix mapped by the kernel function. It first calculates the pairwise dot products data points and transforms the result into an MxM symmetric matrix. Then it applies the polynomial kernel function over this matrix and outputs the result."
      ]
    },
    {
      "cell_type": "code",
      "metadata": {
        "id": "XbFNCihyGw4O"
      },
      "source": [
        "def poly_kernel(X, p):\n",
        "    # calculate the dot product for each pair of points\n",
        "    products = []\n",
        "    for i in range(0,len(X)-1):\n",
        "      for j in range(i+1,len(X)):\n",
        "        products.append(X[i] @ X[j])\n",
        "    # convert the squared distances in to the form of a symmetric matrix of dimension MxM\n",
        "    s = (len(X),len(X))\n",
        "    square = np.zeros(s)\n",
        "    idx = 0\n",
        "    for i in range(0,len(X)):\n",
        "      for j in range(i+1,len(X)):\n",
        "        square[i][j] = products[idx]\n",
        "        square[j][i] = products[idx]\n",
        "        idx += 1\n",
        "    # calculated the MxM kernel matrix using the polynomial kernel function\n",
        "    K = pow(1 + square, p)\n",
        "    return K"
      ],
      "execution_count": null,
      "outputs": []
    },
    {
      "cell_type": "markdown",
      "metadata": {
        "id": "c2wu--i1Gw4P"
      },
      "source": [
        "#### Sigmoid Kernel PCA\n",
        "\n",
        "This is the implementation of the Sigmoid kernel. This function takes an MxN data matrix and returns an MxM kernel matrix mapped by the kernel function. It first calculates the pairwise dot products data points and transforms the result into an MxM symmetric matrix. Then it applies the sigmoid kernel function over this matrix and outputs the result."
      ]
    },
    {
      "cell_type": "code",
      "metadata": {
        "id": "0ujC92HLGw4Q"
      },
      "source": [
        "def sigmoid_kernel(X, sigma):\n",
        "    # calculate the dot product for each pair of points\n",
        "    products = []\n",
        "    for i in range(0,len(X)-1):\n",
        "      for j in range(i+1,len(X)):\n",
        "        products.append(X[i] @ X[j])\n",
        "    # convert the squared distances in to the form of a symmetric matrix of dimension MxM\n",
        "    s = (len(X),len(X))\n",
        "    square = np.zeros(s)\n",
        "    idx = 0\n",
        "    for i in range(0,len(X)):\n",
        "      for j in range(i+1,len(X)):\n",
        "        square[i][j] = products[idx]\n",
        "        square[j][i] = products[idx]\n",
        "        idx += 1\n",
        "    # calculated the MxM kernel matrix using the sigmoid kernel function\n",
        "    square = square + sigma\n",
        "    for i in range(0,len(X)):\n",
        "      for j in range(0,len(X)):\n",
        "        square[i][j] = math.tanh(square[i][j])\n",
        "    return square"
      ],
      "execution_count": null,
      "outputs": []
    },
    {
      "cell_type": "markdown",
      "metadata": {
        "id": "VPp8m-ipGw4S"
      },
      "source": [
        "## Data and data analysis"
      ]
    },
    {
      "cell_type": "markdown",
      "metadata": {
        "id": "1bJcTytkGw4T"
      },
      "source": [
        "### Simple generated test data\n",
        "\n",
        "We are going to use some simple dataset from sklearn to perform simple data analysis to see the results."
      ]
    },
    {
      "cell_type": "markdown",
      "metadata": {
        "id": "8AzyGsJYGw4V"
      },
      "source": [
        "#### Circle data"
      ]
    },
    {
      "cell_type": "code",
      "metadata": {
        "id": "15qoMqOVGw4W",
        "outputId": "b422a3d6-3c58-49d6-eb40-4787e717341b"
      },
      "source": [
        "from sklearn.datasets import make_moons\n",
        "from sklearn.datasets import make_circles\n",
        "\n",
        "X, y = make_circles(n_samples=500, random_state=535, noise=0.1, factor=0.1)\n",
        "plt.scatter(X[y==0, 0], X[y==0, 1], color='red', alpha=0.5)\n",
        "plt.scatter(X[y==1, 0], X[y==1, 1], color='blue', alpha=0.5)\n",
        "plt.title('Concentric circles')\n",
        "plt.ylabel('y coordinate')\n",
        "plt.xlabel('x coordinate')\n",
        "plt.show()"
      ],
      "execution_count": null,
      "outputs": [
        {
          "output_type": "display_data",
          "data": {
            "image/png": "[encoded data removed]",
            "text/plain": [
              "<Figure size 432x288 with 1 Axes>"
            ]
          },
          "metadata": {
            "tags": [],
            "needs_background": "light"
          }
        }
      ]
    },
    {
      "cell_type": "markdown",
      "metadata": {
        "id": "WSezkOsPGw4Z"
      },
      "source": [
        "#### Performance of PCA on circle data\n",
        "\n",
        "From the result below, it can be seen that the clustering result is not ideal."
      ]
    },
    {
      "cell_type": "code",
      "metadata": {
        "id": "tiqYHYGaGw4b",
        "outputId": "69fa4500-57f3-4d6f-d8f1-89ce046ca24b"
      },
      "source": [
        "pca_result = svd_pca(X, n_components = 1)\n",
        "pca_result = pca_result.transpose()\n",
        "plt.ylim([-15,15])\n",
        "plt.plot(pca_result[y==0,0],np.zeros((250,1))+0.1 ,'o', markersize=7, color='red', alpha=0.5, label='class1')\n",
        "plt.plot(pca_result[y==1,0],np.zeros((250,1))-0.1,'o', markersize=7, color='blue', alpha=0.5, label='class2')\n",
        "plt.xlabel('x_values')\n",
        "plt.ylabel('y_values')\n",
        "plt.legend()\n",
        "plt.title('PCA results with class labels')\n",
        "plt.show()"
      ],
      "execution_count": null,
      "outputs": [
        {
          "output_type": "display_data",
          "data": {
            "image/png": "[encoded data removed]",
            "text/plain": [
              "<Figure size 432x288 with 1 Axes>"
            ]
          },
          "metadata": {
            "tags": [],
            "needs_background": "light"
          }
        }
      ]
    },
    {
      "cell_type": "markdown",
      "metadata": {
        "id": "02LoO0B6Gw4e"
      },
      "source": [
        "#### Performance of Gaussian KPCA on circle data\n",
        "\n",
        "From the result below, the performance of Gaussian KPCA is much better can created reasonable clustering"
      ]
    },
    {
      "cell_type": "code",
      "metadata": {
        "scrolled": true,
        "id": "lS_5aN30Gw4g",
        "outputId": "00ddfb21-f50d-4738-b580-47fc379f0eea"
      },
      "source": [
        "gaussian_transformed = gaussian_kernel(X, 15)\n",
        "gaussian_KPCA_result = svd_pca(gaussian_transformed, n_components = 1)\n",
        "gaussian_KPCA_result = gaussian_KPCA_result.transpose()\n",
        "plt.ylim([-15,15])\n",
        "plt.plot(gaussian_KPCA_result[y==0, 0],np.zeros((250,1))+0.1 ,'o', markersize=7, color='blue', alpha=0.5, label='class1')\n",
        "plt.plot(gaussian_KPCA_result[y==1, 0],np.zeros((250,1))-0.1,'o', markersize=7, color='red', alpha=0.5, label='class2')\n",
        "plt.xlabel('x_values')\n",
        "plt.ylabel('y_values')\n",
        "plt.legend()\n",
        "plt.title('PCA results with class labels')\n",
        "plt.show()"
      ],
      "execution_count": null,
      "outputs": [
        {
          "output_type": "display_data",
          "data": {
            "image/png": "[encoded data removed]",
            "text/plain": [
              "<Figure size 432x288 with 1 Axes>"
            ]
          },
          "metadata": {
            "tags": [],
            "needs_background": "light"
          }
        }
      ]
    },
    {
      "cell_type": "markdown",
      "metadata": {
        "id": "HtJgPn5zGw4k"
      },
      "source": [
        "#### Half moon data"
      ]
    },
    {
      "cell_type": "code",
      "metadata": {
        "id": "UzMDkOCOGw4l",
        "outputId": "ea87f8c2-b74d-47c5-cd6d-a3812ffce2a3"
      },
      "source": [
        "X, y = make_moons(n_samples=500, random_state=535)\n",
        "\n",
        "plt.scatter(X[y==0, 0], X[y==0, 1], color='red', alpha=0.5)\n",
        "plt.scatter(X[y==1, 0], X[y==1, 1], color='blue', alpha=0.5)\n",
        "\n",
        "plt.title('A nonlinear 2Ddataset')\n",
        "plt.ylabel('y coordinate')\n",
        "plt.xlabel('x coordinate')\n",
        "\n",
        "plt.show()"
      ],
      "execution_count": null,
      "outputs": [
        {
          "output_type": "display_data",
          "data": {
            "image/png": "[encoded data removed]",
            "text/plain": [
              "<Figure size 432x288 with 1 Axes>"
            ]
          },
          "metadata": {
            "tags": [],
            "needs_background": "light"
          }
        }
      ]
    },
    {
      "cell_type": "markdown",
      "metadata": {
        "id": "IUGThB66Gw4n"
      },
      "source": [
        "#### Performance of PCA on half moon data\n",
        "\n",
        "It's clear that the result is not ideal"
      ]
    },
    {
      "cell_type": "code",
      "metadata": {
        "id": "e-_FJWDdGw4p",
        "outputId": "a370fa7e-033c-4310-d7eb-ba4af5f76508"
      },
      "source": [
        "pca_result = svd_pca(X, n_components = 1)\n",
        "pca_result = pca_result.transpose()\n",
        "plt.ylim([-15,15])\n",
        "plt.plot(pca_result[y==0,0],np.zeros((250,1))+0.1 ,'o', markersize=7, color='red', alpha=0.5, label='class1')\n",
        "plt.plot(pca_result[y==1,0],np.zeros((250,1))-0.1,'o', markersize=7, color='blue', alpha=0.5, label='class2')\n",
        "plt.xlabel('x_values')\n",
        "plt.ylabel('y_values')\n",
        "plt.legend()\n",
        "plt.title('PCA results with class labels')\n",
        "plt.show()"
      ],
      "execution_count": null,
      "outputs": [
        {
          "output_type": "display_data",
          "data": {
            "image/png": "[encoded data removed]",
            "text/plain": [
              "<Figure size 432x288 with 1 Axes>"
            ]
          },
          "metadata": {
            "tags": [],
            "needs_background": "light"
          }
        }
      ]
    },
    {
      "cell_type": "markdown",
      "metadata": {
        "id": "aVRQh-eoGw4s"
      },
      "source": [
        "#### Performance of polynomial KPCA on half moon data\n",
        "\n",
        "The performance of polynomial KPCA here is also not ideal."
      ]
    },
    {
      "cell_type": "code",
      "metadata": {
        "id": "7Xu25tqzGw4x",
        "outputId": "f1c20f7c-1bbd-43a2-9f1e-51573c7b47d4"
      },
      "source": [
        "poly_transformed = poly_kernel(X, 2)\n",
        "poly_KPCA_result = svd_pca(poly_transformed, n_components = 2)\n",
        "poly_KPCA_result = poly_KPCA_result.transpose()\n",
        "plt.ylim([-15,15])\n",
        "plt.plot(poly_KPCA_result[y==0, 0],np.zeros((250,1))+0.1 ,'o', markersize=7, color='blue', alpha=0.5, label='class1')\n",
        "plt.plot(poly_KPCA_result[y==1, 0],np.zeros((250,1))-0.1,'o', markersize=7, color='red', alpha=0.5, label='class2')\n",
        "plt.xlabel('x_values')\n",
        "plt.ylabel('y_values')\n",
        "plt.legend()\n",
        "plt.title('PCA results with class labels')\n",
        "plt.show()"
      ],
      "execution_count": null,
      "outputs": [
        {
          "output_type": "display_data",
          "data": {
            "image/png": "[encoded data removed]",
            "text/plain": [
              "<Figure size 432x288 with 1 Axes>"
            ]
          },
          "metadata": {
            "tags": [],
            "needs_background": "light"
          }
        }
      ]
    },
    {
      "cell_type": "markdown",
      "metadata": {
        "id": "sQJsiSkRGw40"
      },
      "source": [
        "#### Performance of Sigmoid KPCA on half moon data\n",
        "\n",
        "It can be seem that the performance of Sigmoid KPCA on half moon data is much better."
      ]
    },
    {
      "cell_type": "code",
      "metadata": {
        "id": "WU5_Sa3aGw41",
        "outputId": "52b6472e-e603-459c-dbc5-a99805c027ce"
      },
      "source": [
        "sigmoid_transformed = sigmoid_kernel(X, 10)\n",
        "sigmoid_KPCA_result = svd_pca(sigmoid_transformed, n_components = 1)\n",
        "sigmoid_KPCA_result = sigmoid_KPCA_result.transpose()\n",
        "plt.ylim([-15,15])\n",
        "plt.plot(sigmoid_KPCA_result[y==0, 0],np.zeros((250,1))+0.1 ,'o', markersize=7, color='blue', alpha=0.5, label='class1')\n",
        "plt.plot(sigmoid_KPCA_result[y==1, 0],np.zeros((250,1))-0.1,'o', markersize=7, color='red', alpha=0.5, label='class2')\n",
        "plt.xlabel('x_values')\n",
        "plt.ylabel('y_values')\n",
        "plt.legend()\n",
        "plt.title('PCA results with class labels')\n",
        "plt.show()"
      ],
      "execution_count": null,
      "outputs": [
        {
          "output_type": "display_data",
          "data": {
            "image/png": "[encoded data removed]",
            "text/plain": [
              "<Figure size 432x288 with 1 Axes>"
            ]
          },
          "metadata": {
            "tags": [],
            "needs_background": "light"
          }
        }
      ]
    },
    {
      "cell_type": "markdown",
      "metadata": {
        "id": "_F0r7th6Gw44"
      },
      "source": [
        "Now, let's try Gaussian KPCA on a more complex dataset."
      ]
    },
    {
      "cell_type": "markdown",
      "metadata": {
        "id": "TMmGceY2Gw45"
      },
      "source": [
        "### More complex, biological data analysis\n",
        "\n",
        "#### Inroduction of biological test data\n",
        "\n",
        "We are going to use influenza virus data from the National Center for Biotechnology Information to test whether KPCA can visualize a more meaningful clustering. We are going to perform KPCA on bat flu and cat flu dataset. For the preprocessing of the dataset, we utilized k-mer technique, which is a common technique when dealing with unaligned biological sequences. Basically, a k-mer is one of the permutations of the four letters, 'A', 'T', 'C', 'G', of length k. For example, a 2-mer will can be 'AA', 'AT', 'TA', and so on. When applying k-mer to DNA sequences, the number of appearences of each k-mer will be counted for each sequence, and a k-mer table will be created, and the table will be regarded as an input matrix.\n",
        "\n",
        "First, load the DNA sequence data file and create the k-mer table. The two packages are imported only for the processing the biological sequence data and create k-mer table and have nothing to do with the implementation of KPCA."
      ]
    },
    {
      "cell_type": "code",
      "metadata": {
        "scrolled": true,
        "id": "w_4Kg9HjGw46"
      },
      "source": [
        "from Bio import SeqIO\n",
        "from sklearn.feature_extraction.text import CountVectorizer\n",
        "\n",
        "def get_gene_len(genes):\n",
        "    gene_len = []\n",
        "\n",
        "    for i in range(len(genes)):\n",
        "        gene_len.append(len(genes[i]))\n",
        "    return gene_len\n",
        "\n",
        "def parseFasta(data):\n",
        "    d = {fasta.id : str(fasta.seq) for fasta in SeqIO.parse(data, \"fasta\")}\n",
        "    pd.DataFrame([d])\n",
        "    s = pd.Series(d, name='Sequence')\n",
        "    s.index.name = 'ID'\n",
        "    s.reset_index()\n",
        "    return pd.DataFrame(s)\n",
        "\n",
        "def read_fasta(paths):\n",
        "    all_genes = []\n",
        "    all_gene_len = []\n",
        "    \n",
        "    for path in paths:\n",
        "        virus = parseFasta(path)\n",
        "        virus = virus.drop_duplicates(keep=\"last\")\n",
        "        genes = list(virus['Sequence'])\n",
        "        genes_seq = get_gene_sequences(path)\n",
        "        gene_len = get_gene_len(genes_seq)\n",
        "        all_genes = all_genes + genes_seq\n",
        "        all_gene_len = all_gene_len + gene_len\n",
        "    return all_genes,all_gene_len\n",
        "\n",
        "def get_gene_sequences(filename):\n",
        "    genes = []\n",
        "    for record in SeqIO.parse(filename, \"fasta\"):\n",
        "        genes.append(str(record.seq))\n",
        "    return genes\n",
        "\n",
        "def get_kmer_table(paths,k_min,k_max):\n",
        "    genes,gene_len = read_fasta(paths)\n",
        "    count_vect = CountVectorizer(analyzer='char', ngram_range=(k_min, k_max))\n",
        "    X = count_vect.fit_transform(genes)\n",
        "    chars = count_vect.get_feature_names()\n",
        "    kmers = X.toarray()\n",
        "    kmer_freq = []\n",
        "    for i in range(len(genes)):\n",
        "        kmer_freq.append(kmers[i] / gene_len[i])\n",
        "    input = pd.DataFrame(kmer_freq, columns=chars)\n",
        "    return input\n",
        "\n",
        "bat_len = len(get_gene_sequences(\"bat_flu.fa\"))\n",
        "cat_len = len(get_gene_sequences(\"cat_flu.fa\"))\n",
        "\n",
        "zeros = [0]*bat_len\n",
        "labels1 = np.append(zeros, [1]*cat_len, axis=None)\n",
        "paths = [\"combined_Bat_Cat_flu.fa\"]\n",
        "kmer_table = get_kmer_table(paths, 2, 3);\n"
      ],
      "execution_count": null,
      "outputs": []
    },
    {
      "cell_type": "markdown",
      "metadata": {
        "id": "AzyVfxQHGw49"
      },
      "source": [
        "#### The result of PCA on bio data\n",
        "\n",
        "It can be seen that the clustering is not clear enough."
      ]
    },
    {
      "cell_type": "code",
      "metadata": {
        "id": "cmAYbHqbGw4-",
        "outputId": "3caed891-960a-46fb-864c-e8258ea53663"
      },
      "source": [
        "pca_result = svd_pca(kmer_table, 2)\n",
        "\n",
        "plt.plot(pca_result[0,0:bat_len], pca_result[1,0:bat_len], 'o', markersize=7, color='blue', alpha=0.5, label='class1')\n",
        "plt.plot(pca_result[0,bat_len:178], pca_result[1,bat_len:178], 'o', markersize=7, color='red', alpha=0.5, label='class1')\n",
        "plt.xlabel('x_values')\n",
        "plt.ylabel('y_values')\n",
        "plt.legend()\n",
        "plt.title('Transformed samples with class labels')\n",
        "plt.show()"
      ],
      "execution_count": null,
      "outputs": [
        {
          "output_type": "display_data",
          "data": {
            "image/png": "[encoded data removed]",
            "text/plain": [
              "<Figure size 432x288 with 1 Axes>"
            ]
          },
          "metadata": {
            "tags": [],
            "needs_background": "light"
          }
        }
      ]
    },
    {
      "cell_type": "markdown",
      "metadata": {
        "id": "PGkIwCmOGw5B"
      },
      "source": [
        "#### The result of Gaussian KPCA\n",
        "\n",
        "It can be seen that the clustering is clearer, and Gaussian KPCA yields a better result."
      ]
    },
    {
      "cell_type": "code",
      "metadata": {
        "id": "0fk66AFIGw5C",
        "outputId": "5550f5de-c04d-4540-d11b-168f7a5946f8"
      },
      "source": [
        "input_matrix = kmer_table.to_numpy()\n",
        "gaussian_transformed = gaussian_kernel(input_matrix, 2)\n",
        "pca_result2 = svd_pca(gaussian_transformed, 2)\n",
        "\n",
        "plt.plot(pca_result2[0,0:bat_len], pca_result2[1,0:bat_len], 'o', markersize=7, color='blue', alpha=0.5, label='class1')\n",
        "plt.plot(pca_result2[0,bat_len:178], pca_result2[1,bat_len:178], 'o', markersize=7, color='red', alpha=0.5, label='class1')\n",
        "plt.xlabel('x_values')\n",
        "plt.ylabel('y_values')\n",
        "plt.legend()\n",
        "plt.title('Transformed samples with class labels')\n",
        "plt.show()"
      ],
      "execution_count": null,
      "outputs": [
        {
          "output_type": "display_data",
          "data": {
            "image/png": "[encoded data removed]",
            "text/plain": [
              "<Figure size 432x288 with 1 Axes>"
            ]
          },
          "metadata": {
            "tags": [],
            "needs_background": "light"
          }
        }
      ]
    },
    {
      "cell_type": "markdown",
      "metadata": {
        "id": "IgFq03Q8Gw5G"
      },
      "source": [
        "## References\r\n",
        "\r\n",
        "Bishop, Christopher M. Pattern Recognition and Machine Learning. Springer New York, 2016. \r\n",
        "\r\n",
        "Bao Y., P. Bolotov, D. Dernovoy, B. Kiryutin, L. Zaslavsky, T. Tatusova, J. Ostell, and D. Lipman.J. Virol. The Influenza Virus Resource at the National Center for Biotechnology Information. 2008 Jan;82(2):596-601. \r\n",
        "\r\n",
        "Generated Datasets, scikit-learn.org/stable/datasets/index.html.\r\n",
        "\r\n",
        "Pelliccia, Daniel. PCA and Kernel PCA Explained. NIRPY Research, 14 Aug. 2020, nirpyresearch.com/pca-kernel-pca-explained/.\r\n",
        "\r\n",
        "Raschka, Sebastian. Kernel Tricks and Nonlinear Dimensionality Reduction via RBF Kernel PCA, 14 Sept. 2014, sebastianraschka.com/Articles/2014_kernel_pca.html.\r\n",
        "\r\n",
        "Shiokawa, Y., Date, Y. & Kikuchi, J. Application of kernel principal component analysis and computational machine learning to exploration of metabolites strongly associated with diet. Sci Rep 8, 3426 (2018). https://doi.org/10.1038/s41598-018-20121-w"
      ]
    }
  ]
}