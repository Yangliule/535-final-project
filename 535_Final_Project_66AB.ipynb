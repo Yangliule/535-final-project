{
  "nbformat": 4,
  "nbformat_minor": 0,
  "metadata": {
    "kernelspec": {
      "display_name": "Python 3",
      "language": "python",
      "name": "python3"
    },
    "language_info": {
      "codemirror_mode": {
        "name": "ipython",
        "version": 3
      },
      "file_extension": ".py",
      "mimetype": "text/x-python",
      "name": "python",
      "nbconvert_exporter": "python",
      "pygments_lexer": "ipython3",
      "version": "3.7.9"
    },
    "colab": {
      "name": "535 Final Project.ipynb",
      "provenance": []
    }
  },
  "cells": [
    {
      "cell_type": "markdown",
      "metadata": {
        "id": "mjFIBLd_kr9X"
      },
      "source": [
        "## Kernel PCA\n",
        "#### Team members: Liule Yang, Zhiwen Xu, Yuxuan Liu"
      ]
    },
    {
      "cell_type": "markdown",
      "metadata": {
        "id": "l0jf7DxRkr9g"
      },
      "source": [
        "## Background and motivation"
      ]
    },
    {
      "cell_type": "markdown",
      "metadata": {
        "id": "0XMq9DFlkr9h"
      },
      "source": [
        "Principal component analysis (PCA) is one of the most popular dimensionality reduction and data visualization right now (Bishop, 561). PCA can extract linear features of a matrix input data and some meaningful analysis can be performed based on that. PCA can be performed through eigen-decomposition as well as singular value decomposition (SVD). PCA works well in some cases, for example, when dealing with DNA sequences, it can achieve satisfactory results."
      ]
    },
    {
      "cell_type": "markdown",
      "metadata": {
        "id": "lEukVZ5akr9i"
      },
      "source": [
        "However, PCA can only extract linear features. When the data is not linearly separable, we need to do a kernel trick and here we need kernel PCA (KPCA). With the KPCA, we can extract nonlinear features. Common kernels for KPCA include polynomial kernel, Gaussian kernel, and Laplace kernel."
      ]
    },
    {
      "cell_type": "markdown",
      "metadata": {
        "id": "d1JNFqRRkr9j"
      },
      "source": [
        "## Theory"
      ]
    },
    {
      "cell_type": "code",
      "metadata": {
        "id": "WmgIlVqWkr9l"
      },
      "source": [
        ""
      ],
      "execution_count": null,
      "outputs": []
    },
    {
      "cell_type": "markdown",
      "metadata": {
        "id": "dfRBezUbkr9o"
      },
      "source": [
        "## Implementation"
      ]
    },
    {
      "cell_type": "markdown",
      "metadata": {
        "id": "WQP3zvjCzEZ7"
      },
      "source": [
        "Gaussian radial basis function (RBF) Kernel PCA"
      ]
    },
    {
      "cell_type": "code",
      "metadata": {
        "colab": {
          "base_uri": "https://localhost:8080/",
          "height": 1000
        },
        "id": "BorVsQprygU8",
        "outputId": "602672e9-ce6f-48b4-fb51-83b3dddcbe4d"
      },
      "source": [
        "from sklearn.datasets import make_circles\r\n",
        "from sklearn.datasets import make_moons\r\n",
        "from matplotlib import pyplot\r\n",
        "from pandas import DataFrame\r\n",
        "from scipy.spatial.distance import pdist, squareform\r\n",
        "from scipy.linalg import eigh\r\n",
        "from numpy import exp\r\n",
        "import numpy as np\r\n",
        "\r\n",
        "\r\n",
        "def gaussian_kpca(X, gamma, n_components):\r\n",
        "    # Calculating the squared Euclidean distances for every pair of points\r\n",
        "    # in the MxN dimensional dataset.\r\n",
        "    sq_dists = pdist(X, 'sqeuclidean')\r\n",
        "\r\n",
        "    # Converting the pairwise distances into a symmetric MxM matrix.\r\n",
        "    mat_sq_dists = squareform(sq_dists)\r\n",
        "\r\n",
        "    # Computing the MxM kernel matrix.\r\n",
        "    K = exp(-gamma * mat_sq_dists)\r\n",
        "\r\n",
        "    # Centering the symmetric NxN kernel matrix.\r\n",
        "    N = K.shape[0]\r\n",
        "    one_n = np.ones((N,N)) / N\r\n",
        "    K = K - one_n @ K - K @ one_n + one_n @ K @ one_n\r\n",
        "\r\n",
        "    # Obtaining eigenvalues in descending order with corresponding\r\n",
        "    # eigenvectors from the symmetric matrix.\r\n",
        "    eigvals, eigvecs = eigh(K)\r\n",
        "\r\n",
        "    # Obtaining the i eigenvectors that corresponds to the i highest eigenvalues.\r\n",
        "    X_pc = []\r\n",
        "    for i in range(1,n_components+1):\r\n",
        "      for x in eigvecs[:,-i]:\r\n",
        "        X_pc.append([x])\r\n",
        "    return np.array(X_pc)\r\n",
        "\r\n",
        "\r\n",
        "def poly_kpca(X, p, n_components):\r\n",
        "\r\n",
        "    products = []\r\n",
        "    for i in range(0,len(X)-1):\r\n",
        "      for j in range(i+1,len(X)):\r\n",
        "        products.append(X[i] @ X[j])\r\n",
        "    # Converting the pairwise distances into a symmetric MxM matrix.\r\n",
        "    mat_sq_products = squareform(products)\r\n",
        "\r\n",
        "    # Computing the MxM kernel matrix.\r\n",
        "    K = pow(1 + mat_sq_products, p)\r\n",
        "\r\n",
        "    # Centering the symmetric NxN kernel matrix.\r\n",
        "    N = K.shape[0]\r\n",
        "    one_n = np.ones((N,N)) / N\r\n",
        "    K = K - one_n @ K - K @ one_n + one_n @ K @ one_n\r\n",
        "\r\n",
        "    # Obtaining eigenvalues in descending order with corresponding\r\n",
        "    # eigenvectors from the symmetric matrix.\r\n",
        "    eigvals, eigvecs = eigh(K)\r\n",
        "\r\n",
        "    # Obtaining the i eigenvectors that corresponds to the i highest eigenvalues.\r\n",
        "    X_pc = []\r\n",
        "    for i in range(1,n_components+1):\r\n",
        "      for x in eigvecs[:,-i]:\r\n",
        "        X_pc.append([x])\r\n",
        "    return np.array(X_pc)\r\n",
        "\r\n",
        "def poly_kpca(X, p, n_components):\r\n",
        "\r\n",
        "    products = []\r\n",
        "    for i in range(0,len(X)-1):\r\n",
        "      for j in range(i+1,len(X)):\r\n",
        "        products.append(X[i] @ X[j])\r\n",
        "    # Converting the pairwise distances into a symmetric MxM matrix.\r\n",
        "    mat_sq_products = squareform(products)\r\n",
        "\r\n",
        "    # Computing the MxM kernel matrix.\r\n",
        "    K = pow(1 + mat_sq_products, p)\r\n",
        "\r\n",
        "    # Centering the symmetric NxN kernel matrix.\r\n",
        "    N = K.shape[0]\r\n",
        "    one_n = np.ones((N,N)) / N\r\n",
        "    K = K - one_n @ K - K @ one_n + one_n @ K @ one_n\r\n",
        "\r\n",
        "    # Obtaining eigenvalues in descending order with corresponding\r\n",
        "    # eigenvectors from the symmetric matrix.\r\n",
        "    eigvals, eigvecs = eigh(K)\r\n",
        "\r\n",
        "    # Obtaining the i eigenvectors that corresponds to the i highest eigenvalues.\r\n",
        "    X_pc = []\r\n",
        "    for i in range(1,n_components+1):\r\n",
        "      for x in eigvecs[:,-i]:\r\n",
        "        X_pc.append([x])\r\n",
        "    return np.array(X_pc)\r\n",
        "\r\n",
        "def show_data_gaussian(gamma_param):\r\n",
        "  # generate 2d classification dataset\r\n",
        "  X, y = make_circles(n_samples=1000, noise=0.1, factor=0.2)\r\n",
        "  # scatter plot, dots colored by class value\r\n",
        "  df = DataFrame(dict(x=X[:,0], y=X[:,1], label=y))\r\n",
        "  fig, ax = pyplot.subplots()\r\n",
        "  grouped = df.groupby('label')\r\n",
        "  for key, group in grouped:\r\n",
        "      group.plot(ax=ax, kind='scatter', x='x', y='y', label=key, color = 'blue' if key == 1 else 'red')\r\n",
        "  pyplot.title('Linearly inseparable data before Kernel PCA')\r\n",
        "  pyplot.show()\r\n",
        "\r\n",
        "  X_pc = gaussian_kpca(X, gamma=gamma_param, n_components=1)\r\n",
        "  temp = []\r\n",
        "  for x in X_pc:\r\n",
        "    temp.append(x[0])\r\n",
        "  df = DataFrame(dict(x=temp, y=np.zeros(len(X_pc)), label=y))\r\n",
        "  fig, ax = pyplot.subplots()\r\n",
        "  grouped = df.groupby('label')\r\n",
        "  for key, group in grouped:\r\n",
        "      group.plot(ax=ax, kind='scatter', x='x', y='y', label=key, color = 'blue' if key == 1 else 'red')\r\n",
        "  pyplot.title('After Gaussian RBF Kernel PCA')\r\n",
        "  pyplot.show()\r\n",
        "\r\n",
        "def show_data_polynomial(p_param):\r\n",
        "  # generate 2d classification dataset\r\n",
        "  X, y = make_moons(n_samples=1000, noise=0.03)\r\n",
        "  # scatter plot, dots colored by class value\r\n",
        "  df = DataFrame(dict(x=X[:,0], y=X[:,1], label=y))\r\n",
        "  fig, ax = pyplot.subplots()\r\n",
        "  grouped = df.groupby('label')\r\n",
        "  for key, group in grouped:\r\n",
        "      group.plot(ax=ax, kind='scatter', x='x', y='y', label=key, color = 'blue' if key == 1 else 'red')\r\n",
        "  pyplot.title('Linearly inseparable data before Kernel PCA')\r\n",
        "  pyplot.show()\r\n",
        "\r\n",
        "  X_pc = poly_kpca(X, p=p_param, n_components=1)\r\n",
        "  temp = []\r\n",
        "  for x in X_pc:\r\n",
        "    temp.append(x[0])\r\n",
        "  df = DataFrame(dict(x=temp, y=np.zeros(len(X_pc)), label=y))\r\n",
        "  fig, ax = pyplot.subplots()\r\n",
        "  grouped = df.groupby('label')\r\n",
        "  for key, group in grouped:\r\n",
        "      group.plot(ax=ax, kind='scatter', x='x', y='y', label=key, color = 'blue' if key == 1 else 'red')\r\n",
        "  pyplot.title('After Polynomial Kernel PCA')\r\n",
        "  pyplot.show()\r\n",
        "\r\n",
        "def show_data_sigma(s_param):\r\n",
        "  # generate 2d classification dataset\r\n",
        "  X, y = make_moons(n_samples=1000, noise=0.03)\r\n",
        "  # scatter plot, dots colored by class value\r\n",
        "  df = DataFrame(dict(x=X[:,0], y=X[:,1], label=y))\r\n",
        "  fig, ax = pyplot.subplots()\r\n",
        "  grouped = df.groupby('label')\r\n",
        "  for key, group in grouped:\r\n",
        "      group.plot(ax=ax, kind='scatter', x='x', y='y', label=key, color = 'blue' if key == 1 else 'red')\r\n",
        "  pyplot.title('Linearly inseparable data before Kernel PCA')\r\n",
        "  pyplot.show()\r\n",
        "\r\n",
        "  X_pc = poly_kpca(X, p=p_param, n_components=1)\r\n",
        "  temp = []\r\n",
        "  for x in X_pc:\r\n",
        "    temp.append(x[0])\r\n",
        "  df = DataFrame(dict(x=temp, y=np.zeros(len(X_pc)), label=y))\r\n",
        "  fig, ax = pyplot.subplots()\r\n",
        "  grouped = df.groupby('label')\r\n",
        "  for key, group in grouped:\r\n",
        "      group.plot(ax=ax, kind='scatter', x='x', y='y', label=key, color = 'blue' if key == 1 else 'red')\r\n",
        "  pyplot.title('After Polynomial Kernel PCA')\r\n",
        "  pyplot.show()\r\n",
        "\r\n",
        "show_data_gaussian(gamma_param = 15)\r\n",
        "show_data_polynomial(p_param = 5)\r\n",
        "show_data_sigmoid(sigma_param = 15)\r\n",
        "\r\n"
      ],
      "execution_count": 167,
      "outputs": [
        {
          "output_type": "display_data",
          "data": {
            "image/png": "[encoded data removed]",
            "text/plain": [
              "<Figure size 432x288 with 1 Axes>"
            ]
          },
          "metadata": {
            "tags": [],
            "needs_background": "light"
          }
        },
        {
          "output_type": "display_data",
          "data": {
            "image/png": "[encoded data removed]",
            "text/plain": [
              "<Figure size 432x288 with 1 Axes>"
            ]
          },
          "metadata": {
            "tags": [],
            "needs_background": "light"
          }
        },
        {
          "output_type": "display_data",
          "data": {
            "image/png": "[encoded data removed]",
            "text/plain": [
              "<Figure size 432x288 with 1 Axes>"
            ]
          },
          "metadata": {
            "tags": [],
            "needs_background": "light"
          }
        },
        {
          "output_type": "display_data",
          "data": {
            "image/png": "[encoded data removed]",
            "text/plain": [
              "<Figure size 432x288 with 1 Axes>"
            ]
          },
          "metadata": {
            "tags": [],
            "needs_background": "light"
          }
        }
      ]
    },
    {
      "cell_type": "markdown",
      "metadata": {
        "id": "wJnBzGwAkr9p"
      },
      "source": [
        "#### The eigen decomposition implementation of PCA\n",
        "\n",
        "The first type of algorithm is utilizing the information from eigenvalues and eigenvectors. First, the input matrix will be standardized by deducting mean of the matrix. Then, the covariance matrix of the input matrix will be computed, and the eigenvector and eigenvalue will be computed based on the covariance matrix. Then, sort the eigenvectors based on eigenvalues from large to small, and then select the top n components to make transformation of the original input matrix to a matrix with n features (n columns)."
      ]
    },
    {
      "cell_type": "code",
      "metadata": {
        "id": "uqs6BAW7kr9r"
      },
      "source": [
        "def eigen_pca(m, n_components = 2):\n",
        "    # compute the mean and standarize the input matrix\n",
        "    mean = np.mean(m,0)\n",
        "    centered_m = m - mean\n",
        "    num_rows, num_cols = centered_m.shape\n",
        "    # compute covariance matrix\n",
        "    cov_matrix = np.cov(np.transpose(centered_m))\n",
        "    # compute eigenvector and eigenvalue\n",
        "    eig_val_cov, eig_vec_cov = np.linalg.eig(cov_matrix)\n",
        "    # sort the eigenvalue and eigenvector pair by the order of eigenvector from large to small\n",
        "    eig_pairs = [(np.abs(eig_val_cov[i]), eig_vec_cov[:,i]) for i in range(len(eig_val_cov))]\n",
        "    eig_pairs.sort(key=lambda x: x[0], reverse=True)\n",
        "    # transform to the reduced dimension\n",
        "    matrix_w = np.hstack((eig_pairs[k][1].reshape(num_cols,1) for k in range(n_components)))\n",
        "    transformed = matrix_w.T.dot(centered_m.transpose())\n",
        "    return transformed"
      ],
      "execution_count": null,
      "outputs": []
    },
    {
      "cell_type": "markdown",
      "metadata": {
        "id": "Z_lGE4Dakr9s"
      },
      "source": [
        "#### The SVD implementation of PCA\n",
        "\n",
        "The PCA can also be performed using SVD. The only difference is that we are using sigular value this time instead of eigenvalues."
      ]
    },
    {
      "cell_type": "code",
      "metadata": {
        "id": "IfOOhF_Ukr9s"
      },
      "source": [
        "import numpy as np\n",
        "import pandas as pd\n",
        "import matplotlib.pyplot as plt\n",
        "def svd_pca(m):\n",
        "    # compute the mean and standarize the input matrix\n",
        "    mean = np.mean(m,0)\n",
        "    centered_m = m - mean\n",
        "    num_rows, num_cols = centered_m.shape\n",
        "    # compute covariance matrix\n",
        "    cov_matrix = np.cov(np.transpose(centered_m))\n",
        "    # compute eigenvector and eigenvalue\n",
        "    eig_val_cov, eig_vec_cov = np.linalg.eig(cov_matrix)\n",
        "    # sort the eigenvalue and eigenvector pair by the order of eigenvector from large to small\n",
        "    eig_pairs = [(np.abs(eig_val_cov[i]), eig_vec_cov[:,i]) for i in range(len(eig_val_cov))]\n",
        "    eig_pairs.sort(key=lambda x: x[0], reverse=True)\n",
        "    # transform to the reduced dimension\n",
        "    matrix_w = np.hstack((eig_pairs[k][1].reshape(num_cols,1) for k in range(n_components)))\n",
        "    transformed = matrix_w.T.dot(centered_m.transpose())\n",
        "    return transformed\n"
      ],
      "execution_count": null,
      "outputs": []
    },
    {
      "cell_type": "markdown",
      "metadata": {
        "id": "oTgW9ShBkr9u"
      },
      "source": [
        "## Data"
      ]
    },
    {
      "cell_type": "code",
      "metadata": {
        "id": "76OfXNg4kr9v"
      },
      "source": [
        ""
      ],
      "execution_count": null,
      "outputs": []
    },
    {
      "cell_type": "markdown",
      "metadata": {
        "id": "7oz9Q_ZJkr9v"
      },
      "source": [
        "## References"
      ]
    },
    {
      "cell_type": "code",
      "metadata": {
        "id": "Sc3tRN0Ekr9w"
      },
      "source": [
        ""
      ],
      "execution_count": null,
      "outputs": []
    }
  ]
}